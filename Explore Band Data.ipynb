{
 "cells": [
  {
   "cell_type": "markdown",
   "metadata": {},
   "source": [
    "# Explore Album/Band/Musician Data"
   ]
  },
  {
   "cell_type": "markdown",
   "metadata": {},
   "source": [
    "This notebook explores the Album/Band/Musician dataset. This study is asking, \"What is the average band member age of a guitar-oriented band on the release of their debut album\"?"
   ]
  },
  {
   "cell_type": "code",
   "execution_count": 1,
   "metadata": {},
   "outputs": [],
   "source": [
    "import numpy as np\n",
    "import pandas as pd\n",
    "import matplotlib.pyplot as plt\n",
    "import seaborn as sns\n",
    "\n",
    "%matplotlib inline"
   ]
  },
  {
   "cell_type": "code",
   "execution_count": 25,
   "metadata": {},
   "outputs": [
    {
     "name": "stdout",
     "output_type": "stream",
     "text": [
      "<class 'pandas.core.frame.DataFrame'>\n",
      "RangeIndex: 198 entries, 0 to 197\n",
      "Data columns (total 6 columns):\n",
      " #   Column       Non-Null Count  Dtype \n",
      "---  ------       --------------  ----- \n",
      " 0   Title        198 non-null    object\n",
      " 1   ReleaseDate  198 non-null    object\n",
      " 2   FirstName    198 non-null    object\n",
      " 3   LastName     195 non-null    object\n",
      " 4   DateOfBirth  186 non-null    object\n",
      " 5   Band         198 non-null    object\n",
      "dtypes: object(6)\n",
      "memory usage: 9.4+ KB\n"
     ]
    }
   ],
   "source": [
    "df_bands = pd.read_csv('band_data/band_first_albums.csv')\n",
    "df_bands.info()"
   ]
  },
  {
   "cell_type": "markdown",
   "metadata": {},
   "source": [
    "Inspection of the dataset shows that it is missing the date of birth for 13 band members. Since this item of data is critical for this study these rows will be dropped."
   ]
  },
  {
   "cell_type": "code",
   "execution_count": 26,
   "metadata": {},
   "outputs": [],
   "source": [
    "has_dob = pd.notnull(df_bands[\"DateOfBirth\"])\n",
    "df_bands = df_bands[has_dob]"
   ]
  },
  {
   "cell_type": "code",
   "execution_count": 14,
   "metadata": {},
   "outputs": [],
   "source": []
  },
  {
   "cell_type": "code",
   "execution_count": 27,
   "metadata": {},
   "outputs": [
    {
     "name": "stdout",
     "output_type": "stream",
     "text": [
      "<class 'pandas.core.frame.DataFrame'>\n",
      "Int64Index: 186 entries, 0 to 197\n",
      "Data columns (total 6 columns):\n",
      " #   Column       Non-Null Count  Dtype \n",
      "---  ------       --------------  ----- \n",
      " 0   Title        186 non-null    object\n",
      " 1   ReleaseDate  186 non-null    object\n",
      " 2   FirstName    186 non-null    object\n",
      " 3   LastName     183 non-null    object\n",
      " 4   DateOfBirth  186 non-null    object\n",
      " 5   Band         186 non-null    object\n",
      "dtypes: object(6)\n",
      "memory usage: 10.2+ KB\n"
     ]
    }
   ],
   "source": [
    "df_bands.info()"
   ]
  },
  {
   "cell_type": "markdown",
   "metadata": {},
   "source": [
    "It is necessary to calculate the age of each band member when their band's first album was released, rounded down to the nearest whole number. Before this can be done, the timestamps in the dataset need to be converted to datetime objects."
   ]
  },
  {
   "cell_type": "code",
   "execution_count": 28,
   "metadata": {},
   "outputs": [],
   "source": [
    "df_bands['ReleaseDate'] = pd.to_datetime(df_bands['ReleaseDate'])\n",
    "df_bands['DateOfBirth'] = pd.to_datetime(df_bands['DateOfBirth'])\n",
    "df_bands['Age'] = ((df_bands['ReleaseDate'] - df_bands['DateOfBirth']) / np.timedelta64(1, 'Y')).apply(int)"
   ]
  },
  {
   "cell_type": "code",
   "execution_count": 29,
   "metadata": {},
   "outputs": [
    {
     "data": {
      "text/html": [
       "<div>\n",
       "<style scoped>\n",
       "    .dataframe tbody tr th:only-of-type {\n",
       "        vertical-align: middle;\n",
       "    }\n",
       "\n",
       "    .dataframe tbody tr th {\n",
       "        vertical-align: top;\n",
       "    }\n",
       "\n",
       "    .dataframe thead th {\n",
       "        text-align: right;\n",
       "    }\n",
       "</style>\n",
       "<table border=\"1\" class=\"dataframe\">\n",
       "  <thead>\n",
       "    <tr style=\"text-align: right;\">\n",
       "      <th></th>\n",
       "      <th>Title</th>\n",
       "      <th>ReleaseDate</th>\n",
       "      <th>FirstName</th>\n",
       "      <th>LastName</th>\n",
       "      <th>DateOfBirth</th>\n",
       "      <th>Band</th>\n",
       "      <th>Age</th>\n",
       "    </tr>\n",
       "  </thead>\n",
       "  <tbody>\n",
       "    <tr>\n",
       "      <th>0</th>\n",
       "      <td>Leisure</td>\n",
       "      <td>1991-08-26</td>\n",
       "      <td>Damon</td>\n",
       "      <td>Albarn</td>\n",
       "      <td>1968-03-23</td>\n",
       "      <td>Blur</td>\n",
       "      <td>23</td>\n",
       "    </tr>\n",
       "    <tr>\n",
       "      <th>1</th>\n",
       "      <td>Leisure</td>\n",
       "      <td>1991-08-26</td>\n",
       "      <td>Graham</td>\n",
       "      <td>Coxon</td>\n",
       "      <td>1969-03-12</td>\n",
       "      <td>Blur</td>\n",
       "      <td>22</td>\n",
       "    </tr>\n",
       "    <tr>\n",
       "      <th>2</th>\n",
       "      <td>Leisure</td>\n",
       "      <td>1991-08-26</td>\n",
       "      <td>Alex</td>\n",
       "      <td>James</td>\n",
       "      <td>1968-11-21</td>\n",
       "      <td>Blur</td>\n",
       "      <td>22</td>\n",
       "    </tr>\n",
       "    <tr>\n",
       "      <th>3</th>\n",
       "      <td>Leisure</td>\n",
       "      <td>1991-08-26</td>\n",
       "      <td>Dave</td>\n",
       "      <td>Rowntree</td>\n",
       "      <td>1964-05-08</td>\n",
       "      <td>Blur</td>\n",
       "      <td>27</td>\n",
       "    </tr>\n",
       "    <tr>\n",
       "      <th>4</th>\n",
       "      <td>Definitely Maybe</td>\n",
       "      <td>1994-08-30</td>\n",
       "      <td>Liam</td>\n",
       "      <td>Gallagher</td>\n",
       "      <td>1972-09-21</td>\n",
       "      <td>Oasis</td>\n",
       "      <td>21</td>\n",
       "    </tr>\n",
       "  </tbody>\n",
       "</table>\n",
       "</div>"
      ],
      "text/plain": [
       "              Title ReleaseDate FirstName   LastName DateOfBirth   Band  Age\n",
       "0           Leisure  1991-08-26     Damon     Albarn  1968-03-23   Blur   23\n",
       "1           Leisure  1991-08-26    Graham      Coxon  1969-03-12   Blur   22\n",
       "2           Leisure  1991-08-26      Alex      James  1968-11-21   Blur   22\n",
       "3           Leisure  1991-08-26      Dave   Rowntree  1964-05-08   Blur   27\n",
       "4  Definitely Maybe  1994-08-30      Liam  Gallagher  1972-09-21  Oasis   21"
      ]
     },
     "execution_count": 29,
     "metadata": {},
     "output_type": "execute_result"
    }
   ],
   "source": [
    "df_bands.head()"
   ]
  },
  {
   "cell_type": "code",
   "execution_count": 30,
   "metadata": {},
   "outputs": [
    {
     "data": {
      "image/png": "[encoded data removed]",
      "text/plain": [
       "<Figure size 432x288 with 1 Axes>"
      ]
     },
     "metadata": {
      "needs_background": "light"
     },
     "output_type": "display_data"
    }
   ],
   "source": [
    "df_bands['Age'].hist(bins=30);"
   ]
  },
  {
   "cell_type": "code",
   "execution_count": 31,
   "metadata": {},
   "outputs": [
    {
     "data": {
      "image/png": "[encoded data removed]",
      "text/plain": [
       "<Figure size 432x288 with 1 Axes>"
      ]
     },
     "metadata": {
      "needs_background": "light"
     },
     "output_type": "display_data"
    }
   ],
   "source": [
    "df_bands['Age'].plot.density();"
   ]
  },
  {
   "cell_type": "code",
   "execution_count": 65,
   "metadata": {},
   "outputs": [
    {
     "data": {
      "image/png": "[encoded data removed]",
      "text/plain": [
       "<Figure size 864x288 with 2 Axes>"
      ]
     },
     "metadata": {
      "needs_background": "light"
     },
     "output_type": "display_data"
    }
   ],
   "source": [
    "fig, axes = plt.subplots(1, 2, figsize=(12,4))\n",
    "\n",
    "axes[0].hist(df_bands['Age'], bins=30)\n",
    "axes[0].set_title('Band Member Age on Debut Album Release')\n",
    "axes[0].set_xlabel('Age')\n",
    "axes[0].set_ylabel('Frequency')\n",
    "#axes[0].text(2, 2, df_bands['Age'].mean())\n",
    "\n",
    "axes[1].boxplot(df_bands['Age'], patch_artist=True)\n",
    "axes[1].set_ylabel('Age');"
   ]
  },
  {
   "cell_type": "code",
   "execution_count": 69,
   "metadata": {},
   "outputs": [
    {
     "data": {
      "image/png": "[encoded data removed]",
      "text/plain": [
       "<Figure size 432x288 with 1 Axes>"
      ]
     },
     "metadata": {
      "needs_background": "light"
     },
     "output_type": "display_data"
    }
   ],
   "source": [
    "sns.distplot(df_bands['Age'], bins=20);"
   ]
  },
  {
   "cell_type": "code",
   "execution_count": null,
   "metadata": {},
   "outputs": [],
   "source": []
  }
 ],
 "metadata": {
  "kernelspec": {
   "display_name": "Python 3.8.2 64-bit",
   "language": "python",
   "name": "python38264bit8ee2ec4f507a450ea039d20f6b5bb3f9"
  },
  "language_info": {
   "codemirror_mode": {
    "name": "ipython",
    "version": 3
   },
   "file_extension": ".py",
   "mimetype": "text/x-python",
   "name": "python",
   "nbconvert_exporter": "python",
   "pygments_lexer": "ipython3",
   "version": "3.8.2"
  }
 },
 "nbformat": 4,
 "nbformat_minor": 4
}
